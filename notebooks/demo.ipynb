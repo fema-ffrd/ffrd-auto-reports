{
 "cells": [
  {
   "cell_type": "markdown",
   "metadata": {},
   "source": [
    "# Automated Report Generation for FFRD Hydraulic Modeling\n",
    "This notebook auto generates text, tables, and figures related to FFRD hydraulic modeling analyses and auto populates this data into a formatted Microsoft Word document. This tool allows for standardized and high quality figures to be generated efficiently and at scale for reproducible results nationwide.\n",
    "***"
   ]
  },
  {
   "cell_type": "markdown",
   "metadata": {},
   "source": [
    "## *Imports*\n",
    "Standard imports"
   ]
  },
  {
   "cell_type": "code",
   "execution_count": 1,
   "metadata": {},
   "outputs": [],
   "source": [
    "import os\n",
    "import sys\n",
    "sys.path.append('/workspaces/ffrd-auto-reports/src/auto_report')\n",
    "from auto_report import main_auto_report"
   ]
  },
  {
   "cell_type": "markdown",
   "metadata": {},
   "source": [
    "## *User Input*"
   ]
  },
  {
   "cell_type": "code",
   "execution_count": 2,
   "metadata": {},
   "outputs": [],
   "source": [
    "GEOM_HDF_PATH = \"s3://trinity-pilot/Checkpoint1-ModelsForReview/Hydraulics/Denton/Trinity_1203_Denton/Trinity_1203_Denton.g01.hdf\" # Either local or S3 path to the HDF file\n",
    "PLAN_HDF_PATH = \"s3://trinity-pilot/Checkpoint1-ModelsForReview/Hydraulics/Denton/Trinity_1203_Denton/Trinity_1203_Denton.p03.hdf\"\n",
    "DOMAIN_ID = None # Optional input for the domain ID. If multiple domains are found, the user must specify a domain ID.\n",
    "STREAM_THRESHOLD = 20 # Filter to main streams that occur X times or more within the NHDPlus HR network\n",
    "NLCD_RES = 30 # 30-meter resolution of the NLCD data\n",
    "NLCD_YR = 2019 # 2019 NLCD data\n",
    "WSE_ERROR_THRESHOLD = 0.2 # Threshold for the water surface elevation error\n",
    "NUM_BINS = 100 # Number of bins for the histogram\n",
    "ROOT_DIR = '/workspaces/ffrd-auto-reports' # Path of the root project directory"
   ]
  },
  {
   "cell_type": "markdown",
   "metadata": {},
   "source": [
    "***"
   ]
  },
  {
   "cell_type": "markdown",
   "metadata": {},
   "source": [
    "## *Script*\n",
    "processing code starts here "
   ]
  },
  {
   "cell_type": "code",
   "execution_count": 3,
   "metadata": {},
   "outputs": [
    {
     "name": "stdout",
     "output_type": "stream",
     "text": [
      "Running in an existing event loop\n"
     ]
    },
    {
     "data": {
      "text/plain": [
       "'\\nAs the main function is called, the following steps are executed.\\n\\nNOTE: The green check mark within the cell of this notebook will update\\nduring each step that is completed. Therefore, the function is not complete\\nuntil the green check mark is displayed for the last step as outlined below.\\n\\n1. Processing for the HDF geometry data\\n2. Processing for the HDF plan data\\n3. Processing for the USGS gages dataset\\n4. Processing for the HUC04 pilot boundary\\n5. Processing for the DEM dataset\\n6. Processing for the NHD Flowlines dataset\\n7. Processing for gage streamflow summary data\\n8. Processing for the NLCD dataset\\n9. Processing for the soil porosity dataset\\n10. Processing for max WSE errors\\n11. Processing for WSE time to peak\\n12. Processing for the gage calibration data\\n'"
      ]
     },
     "execution_count": 3,
     "metadata": {},
     "output_type": "execute_result"
    },
    {
     "name": "stdout",
     "output_type": "stream",
     "text": [
      "Processing for the HDF geometry data...\n",
      "Processing for the HDF plan data...\n",
      "Processing for the USGS gages dataset...\n",
      "Processing for the HUC04 pilot boundary...\n",
      "Processing for the DEM dataset...\n",
      "30 m DEM is available\n",
      "Processing for the NHD Flowlines dataset...\n",
      "There are 1 USGS stations in the watershed with daily values\n",
      "Processing station USGS-08053500 Denton Ck Nr Justin, TX\n",
      "Processing for the NLCD dataset...\n",
      "Processing for soil the porosity dataset...\n",
      "Processing Max WSE Errors...\n",
      "No cells with WSE errors greater than zero\n",
      "Processing WSE Time to Peak...\n",
      "Processing for the gage calibration plots...\n",
      "Calibration period: 2015-10-23 00:00:00 to 2015-11-12 00:00:00\n",
      "Plotting USGS-08053500 for reference line 0\n",
      "Observed and modeled data are at the same timestep frequency of 0 days 00:15:00\n"
     ]
    }
   ],
   "source": [
    "# Main function to run the auto report\n",
    "main_auto_report(\n",
    "    GEOM_HDF_PATH,\n",
    "    PLAN_HDF_PATH,\n",
    "    DOMAIN_ID,\n",
    "    STREAM_THRESHOLD,\n",
    "    NLCD_RES,\n",
    "    NLCD_YR,\n",
    "    WSE_ERROR_THRESHOLD,\n",
    "    NUM_BINS,\n",
    "    ROOT_DIR,\n",
    ")\n",
    "\n",
    "\"\"\"\n",
    "As the main function is called, the following steps are executed.\n",
    "\n",
    "NOTE: The green check mark within the cell of this notebook will update\n",
    "during each step that is completed. Therefore, the function is not complete\n",
    "until the green check mark is displayed for the last step as outlined below.\n",
    "\n",
    "1. Processing for the HDF geometry data\n",
    "2. Processing for the HDF plan data\n",
    "3. Processing for the USGS gages dataset\n",
    "4. Processing for the HUC04 pilot boundary\n",
    "5. Processing for the DEM dataset\n",
    "6. Processing for the NHD Flowlines dataset\n",
    "7. Processing for gage streamflow summary data\n",
    "8. Processing for the NLCD dataset\n",
    "9. Processing for the soil porosity dataset\n",
    "10. Processing for max WSE errors\n",
    "11. Processing for WSE time to peak\n",
    "12. Processing for the gage calibration data\n",
    "\"\"\""
   ]
  },
  {
   "cell_type": "code",
   "execution_count": null,
   "metadata": {},
   "outputs": [],
   "source": [
    "# The auto generated report is saved in the 2_production/report directory\n",
    "report_path = \"/workspaces/ffrd-auto-reports/data/2_production/report/FFRD-RAS-Report-Automated-Updated.docx\"\n",
    "# All figures are saved in the 2_production/figures directory\n",
    "figure_path = \"/workspaces/ffrd-auto-reports/data/2_production/figures\""
   ]
  }
 ],
 "metadata": {
  "kernelspec": {
   "display_name": "Python 3.7.9 ('esdsgeo_py37')",
   "language": "python",
   "name": "python3"
  },
  "language_info": {
   "codemirror_mode": {
    "name": "ipython",
    "version": 3
   },
   "file_extension": ".py",
   "mimetype": "text/x-python",
   "name": "python",
   "nbconvert_exporter": "python",
   "pygments_lexer": "ipython3",
   "version": "3.10.13"
  },
  "vscode": {
   "interpreter": {
    "hash": "9c99f9c2652d68a3d10663dbf8530db1232755f81f4c5ba17e38bfd311615f4f"
   }
  }
 },
 "nbformat": 4,
 "nbformat_minor": 4
}
