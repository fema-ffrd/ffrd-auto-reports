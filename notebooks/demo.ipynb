{
 "cells": [
  {
   "cell_type": "markdown",
   "metadata": {},
   "source": [
    "# Automated Report Generation for FFRD Hydraulic Modeling\n",
    "This notebook auto generates text, tables, and figures related to FFRD hydraulic modeling analyses and auto populates this data into a formatted Microsoft Word document. This tool allows for standardized and high quality figures to be generated efficiently and at scale for reproducible results nationwide.\n",
    "***"
   ]
  },
  {
   "cell_type": "markdown",
   "metadata": {},
   "source": [
    "## *Imports*\n",
    "Standard imports"
   ]
  },
  {
   "cell_type": "code",
   "execution_count": null,
   "metadata": {},
   "outputs": [],
   "source": [
    "import os\n",
    "import sys\n",
    "from docx import Document\n",
    "sys.path.append('/workspaces/ffrd-auto-reports/src/auto_report')\n",
    "from auto_report import main_auto_report"
   ]
  },
  {
   "cell_type": "markdown",
   "metadata": {},
   "source": [
    "## *User Input*"
   ]
  },
  {
   "cell_type": "code",
   "execution_count": null,
   "metadata": {},
   "outputs": [],
   "source": [
    "GEOM_HDF_PATH = \"s3://trinity-pilot/Checkpoint1-ModelsForReview/Hydraulics/Denton/Trinity_1203_Denton/Trinity_1203_Denton.g01.hdf\" # Either local or S3 path to the HDF file\n",
    "PLAN_HDF_FILES = [\".p01.hdf\", \".p02.hdf\", \".p03.hdf\", \".p04.hdf\"] # No more than 4 plan files. Will update to 6 later\n",
    "NLCD_PATH = \"s3://trinity-pilot/Checkpoint1-ModelsForReview/Hydraulics/Denton/Trinity_1203_Denton/Reference/LandCover/Denton_LandCover.tif\"\n",
    "DOMAIN_ID = None # Optional input for the domain ID. If multiple domains are found, the user must specify a domain ID.\n",
    "STREAM_THRESHOLD = 20 # Filter to main streams that occur X times or more within the NHDPlus HR network\n",
    "WSE_ERROR_THRESHOLD = 0.2 # Threshold for the water surface elevation error\n",
    "NUM_BINS = 100 # Number of bins for the histogram\n",
    "NID_DAM_HEIGHT = 50  # Dam height threshold for the NID inventory\n",
    "GAGE_COLLECTION_METHOD = \"Only collect gages that provide current data\" # or \"Collect all gages, old and current\""
   ]
  },
  {
   "cell_type": "code",
   "execution_count": null,
   "metadata": {},
   "outputs": [],
   "source": [
    "# These filepaths are static and should not change\n",
    "REPORT_PATH = r\"/workspaces/ffrd-auto-reports/data/2_production/report/FFRD-RAS-Report-Automated-Template.docx\"\n",
    "NID_PARQUET_PATH = r\"/workspaces/ffrd-auto-reports/src/assets/nid_inventory.parquet\"\n",
    "os.makedirs(r\"/workspaces/ffrd-auto-reports/session/test\", exist_ok=True)\n",
    "OUTPUT_PATH = r\"/workspaces/ffrd-auto-reports/session/test\""
   ]
  },
  {
   "cell_type": "markdown",
   "metadata": {},
   "source": [
    "***"
   ]
  },
  {
   "cell_type": "markdown",
   "metadata": {},
   "source": [
    "## *Script*\n",
    "processing code starts here "
   ]
  },
  {
   "cell_type": "code",
   "execution_count": null,
   "metadata": {},
   "outputs": [],
   "source": [
    "# Main function to run the auto report\n",
    "main_auto_report(\n",
    "    GEOM_HDF_PATH,\n",
    "    PLAN_HDF_FILES,\n",
    "    NLCD_PATH,\n",
    "    REPORT_PATH,\n",
    "    DOMAIN_ID,\n",
    "    GAGE_COLLECTION_METHOD,\n",
    "    STREAM_THRESHOLD,\n",
    "    WSE_ERROR_THRESHOLD,\n",
    "    NUM_BINS,\n",
    "    NID_PARQUET_PATH,\n",
    "    NID_DAM_HEIGHT,\n",
    "    OUTPUT_PATH,\n",
    "    active_streamlit=False,\n",
    ")\n",
    "\n",
    "\"\"\"\n",
    "As the main function is called, the following steps are executed.\n",
    "\n",
    "NOTE: The green check mark within the cell of this notebook will update\n",
    "during each step that is completed. Therefore, the function is not complete\n",
    "until the green check mark is displayed for the last step as outlined below.\n",
    "\n",
    "1. Processing for the HDF geometry data\n",
    "2. Processing for the HDF plan data\n",
    "3. Processing for USGS gage metadata\n",
    "4. Processing for the HUC04 pilot boundary\n",
    "5. Processing for the DEM dataset\n",
    "6. Processing for the NHD stream network\n",
    "7. Processing for the streamflow period of record\n",
    "8. Processing for the NLCD data\n",
    "9. Processing for the constructed model mesh\n",
    "10. Processing for the calibration hydrographs\n",
    "11. Processing for the max WSE errors\n",
    "12. Processing for the WSE time to peak\n",
    "\n",
    "\"\"\";"
   ]
  },
  {
   "cell_type": "code",
   "execution_count": null,
   "metadata": {},
   "outputs": [],
   "source": [
    "# The auto generated report is saved in the 2_production/report directory\n",
    "report_path = \"/workspaces/ffrd-auto-reports/session/test/FFRD-RAS-Report-Automated-Updated.docx\""
   ]
  }
 ],
 "metadata": {
  "kernelspec": {
   "display_name": "Python 3.7.9 ('esdsgeo_py37')",
   "language": "python",
   "name": "python3"
  },
  "language_info": {
   "codemirror_mode": {
    "name": "ipython",
    "version": 3
   },
   "file_extension": ".py",
   "mimetype": "text/x-python",
   "name": "python",
   "nbconvert_exporter": "python",
   "pygments_lexer": "ipython3",
   "version": "3.10.13"
  },
  "vscode": {
   "interpreter": {
    "hash": "9c99f9c2652d68a3d10663dbf8530db1232755f81f4c5ba17e38bfd311615f4f"
   }
  }
 },
 "nbformat": 4,
 "nbformat_minor": 4
}
